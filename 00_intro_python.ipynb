{
  "nbformat": 4,
  "nbformat_minor": 0,
  "metadata": {
    "colab": {
      "provenance": [],
      "authorship_tag": "ABX9TyPdYiWhv+vTrM04XUwuyD3L",
      "include_colab_link": true
    },
    "kernelspec": {
      "name": "python3",
      "display_name": "Python 3"
    },
    "language_info": {
      "name": "python"
    }
  },
  "cells": [
    {
      "cell_type": "markdown",
      "metadata": {
        "id": "view-in-github",
        "colab_type": "text"
      },
      "source": [
        "<a href=\"https://colab.research.google.com/github/HassanRaza477/python-assignments/blob/main/00_intro_python.ipynb\" target=\"_parent\"><img src=\"https://colab.research.google.com/assets/colab-badge.svg\" alt=\"Open In Colab\"/></a>"
      ]
    },
    {
      "cell_type": "markdown",
      "source": [
        "\n",
        "01_add_two_numbers"
      ],
      "metadata": {
        "id": "0sgNXZRoXFL_"
      }
    },
    {
      "cell_type": "code",
      "execution_count": 21,
      "metadata": {
        "id": "KVroyQCWVvFg",
        "colab": {
          "base_uri": "https://localhost:8080/"
        },
        "outputId": "3ced994e-a303-49f4-9221-fca055df913d"
      },
      "outputs": [
        {
          "output_type": "stream",
          "name": "stdout",
          "text": [
            "This application adds two numbers\n",
            "Enter your first number: 19\n",
            "Enter your second number: 40\n",
            "The total sum of 19 and 40 is 59\n"
          ]
        }
      ],
      "source": [
        "def add():\n",
        "    print(\"This application adds two numbers\")\n",
        "    first_number = int(input(\"Enter your first number: \"))\n",
        "    second_number = int(input(\"Enter your second number: \"))\n",
        "    total = first_number + second_number\n",
        "    print(f\"The total sum of {first_number} and {second_number} is {total}\")\n",
        "\n",
        "if __name__ == \"__main__\":\n",
        "    add()"
      ]
    },
    {
      "cell_type": "markdown",
      "source": [
        "**02_agreement_bot**"
      ],
      "metadata": {
        "id": "tgWA6ItdZp7M"
      }
    },
    {
      "cell_type": "code",
      "source": [
        "def bot():\n",
        "    animal = str(input(\"What is Your Favorite Animal? \"))\n",
        "    print(f\"My Favorite Animal is {animal}\")\n",
        "\n",
        "if __name__ == \"__main__\":\n",
        "    bot()"
      ],
      "metadata": {
        "colab": {
          "base_uri": "https://localhost:8080/"
        },
        "id": "AcplBcCpZ3va",
        "outputId": "3047ad2e-c33e-43b2-9126-ef014e2b5907"
      },
      "execution_count": 17,
      "outputs": [
        {
          "output_type": "stream",
          "name": "stdout",
          "text": [
            "What is Your Favorite Animal? lion\n",
            "My Favorite Animal is lion\n"
          ]
        }
      ]
    },
    {
      "cell_type": "markdown",
      "source": [
        "**03_fahrenheit_to_celsius**"
      ],
      "metadata": {
        "id": "pWQJm4qycmOz"
      }
    },
    {
      "cell_type": "code",
      "source": [
        "def temp():\n",
        "  ferenhite = float(input(\"Enter Your Fahrenheit Degree\"))\n",
        "  celsius = (ferenhite - 32) * 5.0/9.0\n",
        "  print(f'Temperature: {ferenhite} = {celsius}')\n",
        "if __name__ == \"__main__\":\n",
        "    temp()"
      ],
      "metadata": {
        "colab": {
          "base_uri": "https://localhost:8080/"
        },
        "id": "ez83byWDcrbf",
        "outputId": "00fab6ce-8e69-4341-b754-b7c3a99eb352"
      },
      "execution_count": 24,
      "outputs": [
        {
          "output_type": "stream",
          "name": "stdout",
          "text": [
            "Enter Your Fahrenheit Degree33\n",
            "Temperature: 33.0 = 0.5555555555555556\n"
          ]
        }
      ]
    },
    {
      "cell_type": "markdown",
      "source": [
        "**04_how_old_are_they**"
      ],
      "metadata": {
        "id": "-f3pvwMod776"
      }
    },
    {
      "cell_type": "code",
      "source": [
        "def old():\n",
        "  Anthon:int = 21\n",
        "  Beth : int = Anthon + 6\n",
        "  Chen : int = Beth + 20\n",
        "  Drew  : int= Chen + Anthon\n",
        "  Ethan : int = Chen\n",
        "\n",
        "  print(\"Anton is \" + str(Anthon))\n",
        "  print(\"Beth is \" + str(Beth))\n",
        "  print(\"Chen is \" + str(Chen))\n",
        "  print(\"Drew is \" + str(Drew))\n",
        "  print(\"Ethan is \" + str(Ethan))\n",
        "\n",
        "if __name__ == '__main__':\n",
        "    old()"
      ],
      "metadata": {
        "colab": {
          "base_uri": "https://localhost:8080/"
        },
        "id": "Q0Sfh6U_d_2T",
        "outputId": "3d51d6cd-4187-4259-9951-7c5948c70694"
      },
      "execution_count": 26,
      "outputs": [
        {
          "output_type": "stream",
          "name": "stdout",
          "text": [
            "Anton is 21\n",
            "Beth is 27\n",
            "Chen is 47\n",
            "Drew is 68\n",
            "Ethan is 47\n"
          ]
        }
      ]
    },
    {
      "cell_type": "markdown",
      "source": [
        "**05_triangle_perimeter**"
      ],
      "metadata": {
        "id": "BmsfR3sBf68G"
      }
    },
    {
      "cell_type": "code",
      "source": [
        "def lenght():\n",
        "   side1: float = float(input(\"Enter Your First Side no of triangle?\"))\n",
        "   side2: float = float(input(\"Enter Your Second Side no of triangle?\"))\n",
        "   side3: float = float(input(\"Enter Your Third Side no of triangle?\"))\n",
        "   total = str(side1 + side2 + side3)\n",
        "\n",
        "   print(f'The Sum of {side1} and {side2} and {side3} is {total}')\n",
        "\n",
        "if __name__ == '__main__':\n",
        "    lenght()"
      ],
      "metadata": {
        "colab": {
          "base_uri": "https://localhost:8080/"
        },
        "id": "id4dZRzff-kJ",
        "outputId": "1c775795-56b3-4e1e-a569-946d9f2c8b76"
      },
      "execution_count": 32,
      "outputs": [
        {
          "output_type": "stream",
          "name": "stdout",
          "text": [
            "Enter Your First Side no of triangle?3\n",
            "Enter Your Second Side no of triangle?4\n",
            "Enter Your Third Side no of triangle?5\n",
            "The Sum of 3.0 and 4.0 and 5.0 is 12.0\n"
          ]
        }
      ]
    },
    {
      "cell_type": "markdown",
      "source": [
        "**06_square_number**"
      ],
      "metadata": {
        "id": "-NMi1gcph4Tw"
      }
    },
    {
      "cell_type": "code",
      "source": [
        "def square():\n",
        "  num:int = int(input(\"enter any number i will give you a square\"))\n",
        "  print(f'The Square of {num} is {num **2}')\n",
        "\n",
        "if __name__ == '__main__':\n",
        "  square()"
      ],
      "metadata": {
        "colab": {
          "base_uri": "https://localhost:8080/"
        },
        "id": "Y90KSQmVh_YZ",
        "outputId": "c38c105f-ce57-4d51-8ede-5a7611d0b509"
      },
      "execution_count": 37,
      "outputs": [
        {
          "output_type": "stream",
          "name": "stdout",
          "text": [
            "enter any number i will give you a square8\n",
            "The Square of 8 is 64\n"
          ]
        }
      ]
    }
  ]
}